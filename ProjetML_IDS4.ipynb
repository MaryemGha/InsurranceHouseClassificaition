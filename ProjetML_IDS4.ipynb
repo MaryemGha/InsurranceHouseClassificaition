{
 "cells": [
  {
   "cell_type": "markdown",
   "metadata": {
    "id": "K9pToL9Q12nD"
   },
   "source": [
    "# ML Project\n",
    "## 2022-2023\n",
    "---"
   ]
  },
  {
   "cell_type": "markdown",
   "metadata": {
    "id": "jVYg9ChI2FiV"
   },
   "source": [
    "\n",
    "* Tellili Eya \n",
    "* Ben Cheikh Larbi Malak\n",
    "* Gharbi Maryem\n",
    "\n"
   ]
  },
  {
   "cell_type": "markdown",
   "metadata": {
    "id": "Gi780LjV2UEU"
   },
   "source": [
    "**Bib import**"
   ]
  },
  {
   "cell_type": "code",
   "execution_count": 1,
   "metadata": {
    "id": "-uIjAWAX10Yu"
   },
   "outputs": [
    {
     "name": "stderr",
     "output_type": "stream",
     "text": [
      "/Library/Frameworks/Python.framework/Versions/3.9/lib/python3.9/site-packages/scipy/__init__.py:155: UserWarning: A NumPy version >=1.18.5 and <1.25.0 is required for this version of SciPy (detected version 1.26.1\n",
      "  warnings.warn(f\"A NumPy version >={np_minversion} and <{np_maxversion}\"\n"
     ]
    }
   ],
   "source": [
    "import pandas as pd\n",
    "import numpy as np\n",
    "import seaborn as sns\n",
    "import matplotlib.pyplot as plt\n",
    "from sklearn.preprocessing import LabelEncoder\n",
    "from imblearn.over_sampling import SMOTE"
   ]
  },
  {
   "cell_type": "markdown",
   "metadata": {
    "id": "RTWqEDO13sm6"
   },
   "source": [
    "**Lecture des fichiers *train_Insurance.csv* & *test_Insurance.csv***\n"
   ]
  },
  {
   "cell_type": "code",
   "execution_count": 55,
   "metadata": {
    "id": "t6wEywm83yjd"
   },
   "outputs": [],
   "source": [
    "train_data = pd.read_csv('train_Insurance.csv')\n",
    "test_data = pd.read_csv('test_Insurance.csv')"
   ]
  },
  {
   "cell_type": "markdown",
   "metadata": {
    "id": "6vjUfRO-4Oo0"
   },
   "source": [
    "---"
   ]
  },
  {
   "cell_type": "markdown",
   "metadata": {
    "id": "7M6EUoBe3L1E"
   },
   "source": [
    "### **Data analysis** "
   ]
  },
  {
   "cell_type": "code",
   "execution_count": 3,
   "metadata": {
    "id": "Z0HemdzR3iE2"
   },
   "outputs": [
    {
     "data": {
      "text/html": [
       "<div>\n",
       "<style scoped>\n",
       "    .dataframe tbody tr th:only-of-type {\n",
       "        vertical-align: middle;\n",
       "    }\n",
       "\n",
       "    .dataframe tbody tr th {\n",
       "        vertical-align: top;\n",
       "    }\n",
       "\n",
       "    .dataframe thead th {\n",
       "        text-align: right;\n",
       "    }\n",
       "</style>\n",
       "<table border=\"1\" class=\"dataframe\">\n",
       "  <thead>\n",
       "    <tr style=\"text-align: right;\">\n",
       "      <th></th>\n",
       "      <th>Customer Id</th>\n",
       "      <th>YearOfObservation</th>\n",
       "      <th>Insured_Period</th>\n",
       "      <th>Residential</th>\n",
       "      <th>Building_Painted</th>\n",
       "      <th>Building_Fenced</th>\n",
       "      <th>Garden</th>\n",
       "      <th>Settlement</th>\n",
       "      <th>Building Dimension</th>\n",
       "      <th>Building_Type</th>\n",
       "      <th>NumberOfWindows</th>\n",
       "      <th>Geo_Code</th>\n",
       "      <th>Claim</th>\n",
       "    </tr>\n",
       "  </thead>\n",
       "  <tbody>\n",
       "    <tr>\n",
       "      <th>0</th>\n",
       "      <td>H13501</td>\n",
       "      <td>2012</td>\n",
       "      <td>1.0</td>\n",
       "      <td>1</td>\n",
       "      <td>N</td>\n",
       "      <td>V</td>\n",
       "      <td>V</td>\n",
       "      <td>U</td>\n",
       "      <td>1240.0</td>\n",
       "      <td>Wood-framed</td>\n",
       "      <td>without</td>\n",
       "      <td>75117</td>\n",
       "      <td>non</td>\n",
       "    </tr>\n",
       "    <tr>\n",
       "      <th>1</th>\n",
       "      <td>H14962</td>\n",
       "      <td>2012</td>\n",
       "      <td>1.0</td>\n",
       "      <td>0</td>\n",
       "      <td>N</td>\n",
       "      <td>V</td>\n",
       "      <td>V</td>\n",
       "      <td>U</td>\n",
       "      <td>900.0</td>\n",
       "      <td>Non-combustible</td>\n",
       "      <td>without</td>\n",
       "      <td>62916</td>\n",
       "      <td>non</td>\n",
       "    </tr>\n",
       "    <tr>\n",
       "      <th>2</th>\n",
       "      <td>H17755</td>\n",
       "      <td>2013</td>\n",
       "      <td>1.0</td>\n",
       "      <td>1</td>\n",
       "      <td>V</td>\n",
       "      <td>N</td>\n",
       "      <td>O</td>\n",
       "      <td>R</td>\n",
       "      <td>4984.0</td>\n",
       "      <td>Non-combustible</td>\n",
       "      <td>4</td>\n",
       "      <td>31149</td>\n",
       "      <td>oui</td>\n",
       "    </tr>\n",
       "    <tr>\n",
       "      <th>3</th>\n",
       "      <td>H13369</td>\n",
       "      <td>2016</td>\n",
       "      <td>0.5</td>\n",
       "      <td>0</td>\n",
       "      <td>N</td>\n",
       "      <td>V</td>\n",
       "      <td>V</td>\n",
       "      <td>U</td>\n",
       "      <td>600.0</td>\n",
       "      <td>Wood-framed</td>\n",
       "      <td>without</td>\n",
       "      <td>6012</td>\n",
       "      <td>oui</td>\n",
       "    </tr>\n",
       "    <tr>\n",
       "      <th>4</th>\n",
       "      <td>H12988</td>\n",
       "      <td>2012</td>\n",
       "      <td>1.0</td>\n",
       "      <td>0</td>\n",
       "      <td>N</td>\n",
       "      <td>V</td>\n",
       "      <td>V</td>\n",
       "      <td>U</td>\n",
       "      <td>900.0</td>\n",
       "      <td>Non-combustible</td>\n",
       "      <td>without</td>\n",
       "      <td>57631</td>\n",
       "      <td>non</td>\n",
       "    </tr>\n",
       "  </tbody>\n",
       "</table>\n",
       "</div>"
      ],
      "text/plain": [
       "  Customer Id  YearOfObservation  Insured_Period  Residential  \\\n",
       "0      H13501               2012             1.0            1   \n",
       "1      H14962               2012             1.0            0   \n",
       "2      H17755               2013             1.0            1   \n",
       "3      H13369               2016             0.5            0   \n",
       "4      H12988               2012             1.0            0   \n",
       "\n",
       "  Building_Painted Building_Fenced Garden Settlement  Building Dimension  \\\n",
       "0                N               V      V          U              1240.0   \n",
       "1                N               V      V          U               900.0   \n",
       "2                V               N      O          R              4984.0   \n",
       "3                N               V      V          U               600.0   \n",
       "4                N               V      V          U               900.0   \n",
       "\n",
       "     Building_Type NumberOfWindows Geo_Code Claim  \n",
       "0      Wood-framed         without    75117   non  \n",
       "1  Non-combustible         without    62916   non  \n",
       "2  Non-combustible               4    31149   oui  \n",
       "3      Wood-framed         without     6012   oui  \n",
       "4  Non-combustible         without    57631   non  "
      ]
     },
     "execution_count": 3,
     "metadata": {},
     "output_type": "execute_result"
    }
   ],
   "source": [
    "train_data.head()"
   ]
  },
  {
   "cell_type": "code",
   "execution_count": 4,
   "metadata": {
    "id": "XxQ5pTdpp8zo"
   },
   "outputs": [
    {
     "data": {
      "text/plain": [
       "Index(['Customer Id', 'YearOfObservation', 'Insured_Period', 'Residential',\n",
       "       'Building_Painted', 'Building_Fenced', 'Garden', 'Settlement',\n",
       "       'Building Dimension', 'Building_Type', 'NumberOfWindows', 'Geo_Code',\n",
       "       'Claim'],\n",
       "      dtype='object')"
      ]
     },
     "execution_count": 4,
     "metadata": {},
     "output_type": "execute_result"
    }
   ],
   "source": [
    "train_data.columns"
   ]
  },
  {
   "cell_type": "code",
   "execution_count": 5,
   "metadata": {},
   "outputs": [
    {
     "data": {
      "text/html": [
       "<div>\n",
       "<style scoped>\n",
       "    .dataframe tbody tr th:only-of-type {\n",
       "        vertical-align: middle;\n",
       "    }\n",
       "\n",
       "    .dataframe tbody tr th {\n",
       "        vertical-align: top;\n",
       "    }\n",
       "\n",
       "    .dataframe thead th {\n",
       "        text-align: right;\n",
       "    }\n",
       "</style>\n",
       "<table border=\"1\" class=\"dataframe\">\n",
       "  <thead>\n",
       "    <tr style=\"text-align: right;\">\n",
       "      <th></th>\n",
       "      <th>YearOfObservation</th>\n",
       "      <th>Insured_Period</th>\n",
       "      <th>Residential</th>\n",
       "      <th>Building Dimension</th>\n",
       "    </tr>\n",
       "  </thead>\n",
       "  <tbody>\n",
       "    <tr>\n",
       "      <th>count</th>\n",
       "      <td>5012.000000</td>\n",
       "      <td>5012.000000</td>\n",
       "      <td>5012.000000</td>\n",
       "      <td>4935.000000</td>\n",
       "    </tr>\n",
       "    <tr>\n",
       "      <th>mean</th>\n",
       "      <td>2013.660215</td>\n",
       "      <td>0.869713</td>\n",
       "      <td>0.301077</td>\n",
       "      <td>1876.898683</td>\n",
       "    </tr>\n",
       "    <tr>\n",
       "      <th>std</th>\n",
       "      <td>1.383134</td>\n",
       "      <td>0.219496</td>\n",
       "      <td>0.458772</td>\n",
       "      <td>2267.277397</td>\n",
       "    </tr>\n",
       "    <tr>\n",
       "      <th>min</th>\n",
       "      <td>2012.000000</td>\n",
       "      <td>0.500000</td>\n",
       "      <td>0.000000</td>\n",
       "      <td>1.000000</td>\n",
       "    </tr>\n",
       "    <tr>\n",
       "      <th>25%</th>\n",
       "      <td>2012.000000</td>\n",
       "      <td>0.500000</td>\n",
       "      <td>0.000000</td>\n",
       "      <td>520.000000</td>\n",
       "    </tr>\n",
       "    <tr>\n",
       "      <th>50%</th>\n",
       "      <td>2013.000000</td>\n",
       "      <td>1.000000</td>\n",
       "      <td>0.000000</td>\n",
       "      <td>1067.000000</td>\n",
       "    </tr>\n",
       "    <tr>\n",
       "      <th>75%</th>\n",
       "      <td>2015.000000</td>\n",
       "      <td>1.000000</td>\n",
       "      <td>1.000000</td>\n",
       "      <td>2280.000000</td>\n",
       "    </tr>\n",
       "    <tr>\n",
       "      <th>max</th>\n",
       "      <td>2016.000000</td>\n",
       "      <td>1.000000</td>\n",
       "      <td>1.000000</td>\n",
       "      <td>20840.000000</td>\n",
       "    </tr>\n",
       "  </tbody>\n",
       "</table>\n",
       "</div>"
      ],
      "text/plain": [
       "       YearOfObservation  Insured_Period  Residential  Building Dimension\n",
       "count        5012.000000     5012.000000  5012.000000         4935.000000\n",
       "mean         2013.660215        0.869713     0.301077         1876.898683\n",
       "std             1.383134        0.219496     0.458772         2267.277397\n",
       "min          2012.000000        0.500000     0.000000            1.000000\n",
       "25%          2012.000000        0.500000     0.000000          520.000000\n",
       "50%          2013.000000        1.000000     0.000000         1067.000000\n",
       "75%          2015.000000        1.000000     1.000000         2280.000000\n",
       "max          2016.000000        1.000000     1.000000        20840.000000"
      ]
     },
     "execution_count": 5,
     "metadata": {},
     "output_type": "execute_result"
    }
   ],
   "source": [
    "train_data.describe()"
   ]
  },
  {
   "cell_type": "code",
   "execution_count": 6,
   "metadata": {},
   "outputs": [
    {
     "name": "stdout",
     "output_type": "stream",
     "text": [
      "Taille du jeu de données:  (5012, 13)\n"
     ]
    }
   ],
   "source": [
    "print(\"Taille du jeu de données: \",train_data.shape)"
   ]
  },
  {
   "cell_type": "code",
   "execution_count": 7,
   "metadata": {},
   "outputs": [
    {
     "name": "stdout",
     "output_type": "stream",
     "text": [
      "<class 'pandas.core.frame.DataFrame'>\n",
      "RangeIndex: 5012 entries, 0 to 5011\n",
      "Data columns (total 13 columns):\n",
      " #   Column              Non-Null Count  Dtype  \n",
      "---  ------              --------------  -----  \n",
      " 0   Customer Id         5012 non-null   object \n",
      " 1   YearOfObservation   5012 non-null   int64  \n",
      " 2   Insured_Period      5012 non-null   float64\n",
      " 3   Residential         5012 non-null   int64  \n",
      " 4   Building_Painted    5012 non-null   object \n",
      " 5   Building_Fenced     5012 non-null   object \n",
      " 6   Garden              5008 non-null   object \n",
      " 7   Settlement          5012 non-null   object \n",
      " 8   Building Dimension  4935 non-null   float64\n",
      " 9   Building_Type       5012 non-null   object \n",
      " 10  NumberOfWindows     5012 non-null   object \n",
      " 11  Geo_Code            4939 non-null   object \n",
      " 12  Claim               5012 non-null   object \n",
      "dtypes: float64(2), int64(2), object(9)\n",
      "memory usage: 509.2+ KB\n",
      "Les types des colonnes:  None\n"
     ]
    }
   ],
   "source": [
    "print(\"Les types des colonnes: \",train_data.info())"
   ]
  },
  {
   "cell_type": "code",
   "execution_count": 8,
   "metadata": {},
   "outputs": [
    {
     "data": {
      "text/plain": [
       "non    3886\n",
       "oui    1126\n",
       "Name: Claim, dtype: int64"
      ]
     },
     "execution_count": 8,
     "metadata": {},
     "output_type": "execute_result"
    }
   ],
   "source": [
    "train_data.Claim.value_counts()"
   ]
  },
  {
   "cell_type": "code",
   "execution_count": 9,
   "metadata": {},
   "outputs": [
    {
     "data": {
      "image/png": "[encoded data removed]",
      "text/plain": [
       "<Figure size 1440x3600 with 8 Axes>"
      ]
     },
     "metadata": {
      "needs_background": "light"
     },
     "output_type": "display_data"
    }
   ],
   "source": [
    "l_columns =[\"YearOfObservation\",\"Insured_Period\",\"Residential\",\"Building_Painted\",\"Building_Fenced\",\"Garden\",\"Settlement\",\"NumberOfWindows\"]\n",
    "plt.figure(figsize=(20,50))\n",
    "for i,c in enumerate(l_columns):\n",
    "    plt.subplot(8,2,i+1)\n",
    "    sns.countplot(x=train_data[c],palette=\"rocket\")\n",
    "    \n",
    "    \n",
    "plt.show()"
   ]
  },
  {
   "cell_type": "code",
   "execution_count": 10,
   "metadata": {},
   "outputs": [
    {
     "data": {
      "image/png": "[encoded data removed]",
      "text/plain": [
       "<Figure size 720x720 with 1 Axes>"
      ]
     },
     "metadata": {},
     "output_type": "display_data"
    }
   ],
   "source": [
    "colors = sns.color_palette('pastel')[0:5]\n",
    "plt.figure(figsize=(10,10))\n",
    "plt.pie(train_data['Building_Type'].value_counts(), labels =train_data.Building_Type.unique(), colors = colors, autopct='%.0f%%')\n",
    "plt.title(\"Building Type\")\n",
    "plt.show()"
   ]
  },
  {
   "cell_type": "code",
   "execution_count": 11,
   "metadata": {},
   "outputs": [],
   "source": [
    "#matrice de corrélation\n",
    "corr_matrix=train_data.corr()"
   ]
  },
  {
   "cell_type": "code",
   "execution_count": 12,
   "metadata": {},
   "outputs": [
    {
     "data": {
      "image/png": "[encoded data removed]",
      "text/plain": [
       "<Figure size 432x288 with 2 Axes>"
      ]
     },
     "metadata": {
      "needs_background": "light"
     },
     "output_type": "display_data"
    }
   ],
   "source": [
    "sns.heatmap(corr_matrix,cmap=\"rocket_r\")\n",
    "plt.show()"
   ]
  },
  {
   "cell_type": "code",
   "execution_count": null,
   "metadata": {},
   "outputs": [],
   "source": []
  },
  {
   "cell_type": "code",
   "execution_count": 13,
   "metadata": {},
   "outputs": [
    {
     "data": {
      "text/plain": [
       "Customer Id            0\n",
       "YearOfObservation      0\n",
       "Insured_Period         0\n",
       "Residential            0\n",
       "Building_Painted       0\n",
       "Building_Fenced        0\n",
       "Garden                 4\n",
       "Settlement             0\n",
       "Building Dimension    77\n",
       "Building_Type          0\n",
       "NumberOfWindows        0\n",
       "Geo_Code              73\n",
       "Claim                  0\n",
       "dtype: int64"
      ]
     },
     "execution_count": 13,
     "metadata": {},
     "output_type": "execute_result"
    }
   ],
   "source": [
    "train_data.isnull().sum()"
   ]
  },
  {
   "cell_type": "code",
   "execution_count": 14,
   "metadata": {},
   "outputs": [],
   "source": [
    "train_data['Building Dimension']=train_data['Building Dimension'].fillna(train_data['Building Dimension'].mean())\n",
    "test_data['Building Dimension']=test_data['Building Dimension'].fillna(test_data['Building Dimension'].mean())"
   ]
  },
  {
   "cell_type": "code",
   "execution_count": 15,
   "metadata": {},
   "outputs": [],
   "source": [
    "train_data['Geo_Code']=train_data['Geo_Code'].fillna(train_data['Geo_Code'].mode()[0])\n",
    "test_data['Geo_Code']=test_data['Geo_Code'].fillna(test_data['Geo_Code'].mode()[0])"
   ]
  },
  {
   "cell_type": "code",
   "execution_count": 16,
   "metadata": {},
   "outputs": [],
   "source": [
    "train_data['Garden']=train_data['Garden'].fillna(train_data['Garden'].mode()[0])\n",
    "test_data['Garden']=test_data['Garden'].fillna(test_data['Garden'].mode()[0])"
   ]
  },
  {
   "cell_type": "code",
   "execution_count": 17,
   "metadata": {
    "scrolled": true
   },
   "outputs": [
    {
     "data": {
      "text/plain": [
       "Customer Id           0\n",
       "YearOfObservation     0\n",
       "Insured_Period        0\n",
       "Residential           0\n",
       "Building_Painted      0\n",
       "Building_Fenced       0\n",
       "Garden                0\n",
       "Settlement            0\n",
       "Building Dimension    0\n",
       "Building_Type         0\n",
       "NumberOfWindows       0\n",
       "Geo_Code              0\n",
       "Claim                 0\n",
       "dtype: int64"
      ]
     },
     "execution_count": 17,
     "metadata": {},
     "output_type": "execute_result"
    }
   ],
   "source": [
    "train_data.isnull().sum()"
   ]
  },
  {
   "cell_type": "code",
   "execution_count": 18,
   "metadata": {},
   "outputs": [
    {
     "data": {
      "text/plain": [
       "Customer Id           0\n",
       "YearOfObservation     0\n",
       "Insured_Period        0\n",
       "Residential           0\n",
       "Building_Painted      0\n",
       "Building_Fenced       0\n",
       "Garden                0\n",
       "Settlement            0\n",
       "Building Dimension    0\n",
       "Building_Type         0\n",
       "NumberOfWindows       0\n",
       "Geo_Code              0\n",
       "Claim                 0\n",
       "dtype: int64"
      ]
     },
     "execution_count": 18,
     "metadata": {},
     "output_type": "execute_result"
    }
   ],
   "source": [
    "test_data.isnull().sum()"
   ]
  },
  {
   "cell_type": "code",
   "execution_count": 19,
   "metadata": {},
   "outputs": [],
   "source": [
    "#Encoder les colonnes non numériques\n",
    "l = [\"Building_Painted\",\"Building_Fenced\",\"Garden\",\"Settlement\",\"Building_Type\",\"Claim\"]\n",
    "le = LabelEncoder()\n",
    "for c in l:\n",
    "    train_data[c] = le.fit_transform(train_data[c])\n",
    "    test_data[c]= le.fit_transform(test_data[c])"
   ]
  },
  {
   "cell_type": "code",
   "execution_count": 20,
   "metadata": {},
   "outputs": [],
   "source": [
    "train_data.NumberOfWindows = train_data.NumberOfWindows.replace([\"without\",\">=10\"],[0,10])\n",
    "train_data.NumberOfWindows=[int(n) for n in train_data.NumberOfWindows]\n",
    "\n",
    "\n",
    "test_data.NumberOfWindows = test_data.NumberOfWindows.replace([\"without\",\">=10\"],[0,10])\n",
    "test_data.NumberOfWindows=[int(n) for n in test_data.NumberOfWindows]\n",
    "\n",
    "\n",
    "\n"
   ]
  },
  {
   "cell_type": "code",
   "execution_count": 21,
   "metadata": {},
   "outputs": [
    {
     "data": {
      "text/html": [
       "<div>\n",
       "<style scoped>\n",
       "    .dataframe tbody tr th:only-of-type {\n",
       "        vertical-align: middle;\n",
       "    }\n",
       "\n",
       "    .dataframe tbody tr th {\n",
       "        vertical-align: top;\n",
       "    }\n",
       "\n",
       "    .dataframe thead th {\n",
       "        text-align: right;\n",
       "    }\n",
       "</style>\n",
       "<table border=\"1\" class=\"dataframe\">\n",
       "  <thead>\n",
       "    <tr style=\"text-align: right;\">\n",
       "      <th></th>\n",
       "      <th>Customer Id</th>\n",
       "      <th>YearOfObservation</th>\n",
       "      <th>Insured_Period</th>\n",
       "      <th>Residential</th>\n",
       "      <th>Building_Painted</th>\n",
       "      <th>Building_Fenced</th>\n",
       "      <th>Garden</th>\n",
       "      <th>Settlement</th>\n",
       "      <th>Building Dimension</th>\n",
       "      <th>Building_Type</th>\n",
       "      <th>NumberOfWindows</th>\n",
       "      <th>Geo_Code</th>\n",
       "      <th>Claim</th>\n",
       "    </tr>\n",
       "  </thead>\n",
       "  <tbody>\n",
       "    <tr>\n",
       "      <th>0</th>\n",
       "      <td>H13501</td>\n",
       "      <td>2012</td>\n",
       "      <td>1.0</td>\n",
       "      <td>1</td>\n",
       "      <td>0</td>\n",
       "      <td>1</td>\n",
       "      <td>1</td>\n",
       "      <td>1</td>\n",
       "      <td>1240.0</td>\n",
       "      <td>3</td>\n",
       "      <td>0</td>\n",
       "      <td>75117</td>\n",
       "      <td>0</td>\n",
       "    </tr>\n",
       "    <tr>\n",
       "      <th>1</th>\n",
       "      <td>H14962</td>\n",
       "      <td>2012</td>\n",
       "      <td>1.0</td>\n",
       "      <td>0</td>\n",
       "      <td>0</td>\n",
       "      <td>1</td>\n",
       "      <td>1</td>\n",
       "      <td>1</td>\n",
       "      <td>900.0</td>\n",
       "      <td>1</td>\n",
       "      <td>0</td>\n",
       "      <td>62916</td>\n",
       "      <td>0</td>\n",
       "    </tr>\n",
       "    <tr>\n",
       "      <th>2</th>\n",
       "      <td>H17755</td>\n",
       "      <td>2013</td>\n",
       "      <td>1.0</td>\n",
       "      <td>1</td>\n",
       "      <td>1</td>\n",
       "      <td>0</td>\n",
       "      <td>0</td>\n",
       "      <td>0</td>\n",
       "      <td>4984.0</td>\n",
       "      <td>1</td>\n",
       "      <td>4</td>\n",
       "      <td>31149</td>\n",
       "      <td>1</td>\n",
       "    </tr>\n",
       "    <tr>\n",
       "      <th>3</th>\n",
       "      <td>H13369</td>\n",
       "      <td>2016</td>\n",
       "      <td>0.5</td>\n",
       "      <td>0</td>\n",
       "      <td>0</td>\n",
       "      <td>1</td>\n",
       "      <td>1</td>\n",
       "      <td>1</td>\n",
       "      <td>600.0</td>\n",
       "      <td>3</td>\n",
       "      <td>0</td>\n",
       "      <td>6012</td>\n",
       "      <td>1</td>\n",
       "    </tr>\n",
       "    <tr>\n",
       "      <th>4</th>\n",
       "      <td>H12988</td>\n",
       "      <td>2012</td>\n",
       "      <td>1.0</td>\n",
       "      <td>0</td>\n",
       "      <td>0</td>\n",
       "      <td>1</td>\n",
       "      <td>1</td>\n",
       "      <td>1</td>\n",
       "      <td>900.0</td>\n",
       "      <td>1</td>\n",
       "      <td>0</td>\n",
       "      <td>57631</td>\n",
       "      <td>0</td>\n",
       "    </tr>\n",
       "  </tbody>\n",
       "</table>\n",
       "</div>"
      ],
      "text/plain": [
       "  Customer Id  YearOfObservation  Insured_Period  Residential  \\\n",
       "0      H13501               2012             1.0            1   \n",
       "1      H14962               2012             1.0            0   \n",
       "2      H17755               2013             1.0            1   \n",
       "3      H13369               2016             0.5            0   \n",
       "4      H12988               2012             1.0            0   \n",
       "\n",
       "   Building_Painted  Building_Fenced  Garden  Settlement  Building Dimension  \\\n",
       "0                 0                1       1           1              1240.0   \n",
       "1                 0                1       1           1               900.0   \n",
       "2                 1                0       0           0              4984.0   \n",
       "3                 0                1       1           1               600.0   \n",
       "4                 0                1       1           1               900.0   \n",
       "\n",
       "   Building_Type  NumberOfWindows Geo_Code  Claim  \n",
       "0              3                0    75117      0  \n",
       "1              1                0    62916      0  \n",
       "2              1                4    31149      1  \n",
       "3              3                0     6012      1  \n",
       "4              1                0    57631      0  "
      ]
     },
     "execution_count": 21,
     "metadata": {},
     "output_type": "execute_result"
    }
   ],
   "source": [
    "train_data.head()"
   ]
  },
  {
   "cell_type": "code",
   "execution_count": 22,
   "metadata": {},
   "outputs": [
    {
     "data": {
      "text/html": [
       "<div>\n",
       "<style scoped>\n",
       "    .dataframe tbody tr th:only-of-type {\n",
       "        vertical-align: middle;\n",
       "    }\n",
       "\n",
       "    .dataframe tbody tr th {\n",
       "        vertical-align: top;\n",
       "    }\n",
       "\n",
       "    .dataframe thead th {\n",
       "        text-align: right;\n",
       "    }\n",
       "</style>\n",
       "<table border=\"1\" class=\"dataframe\">\n",
       "  <thead>\n",
       "    <tr style=\"text-align: right;\">\n",
       "      <th></th>\n",
       "      <th>Customer Id</th>\n",
       "      <th>YearOfObservation</th>\n",
       "      <th>Insured_Period</th>\n",
       "      <th>Residential</th>\n",
       "      <th>Building_Painted</th>\n",
       "      <th>Building_Fenced</th>\n",
       "      <th>Garden</th>\n",
       "      <th>Settlement</th>\n",
       "      <th>Building Dimension</th>\n",
       "      <th>Building_Type</th>\n",
       "      <th>NumberOfWindows</th>\n",
       "      <th>Geo_Code</th>\n",
       "      <th>Claim</th>\n",
       "    </tr>\n",
       "  </thead>\n",
       "  <tbody>\n",
       "    <tr>\n",
       "      <th>0</th>\n",
       "      <td>H3733</td>\n",
       "      <td>2013</td>\n",
       "      <td>1.0</td>\n",
       "      <td>0</td>\n",
       "      <td>1</td>\n",
       "      <td>1</td>\n",
       "      <td>1</td>\n",
       "      <td>1</td>\n",
       "      <td>3760.0</td>\n",
       "      <td>0</td>\n",
       "      <td>0</td>\n",
       "      <td>43157</td>\n",
       "      <td>1</td>\n",
       "    </tr>\n",
       "    <tr>\n",
       "      <th>1</th>\n",
       "      <td>H16909</td>\n",
       "      <td>2015</td>\n",
       "      <td>1.0</td>\n",
       "      <td>0</td>\n",
       "      <td>1</td>\n",
       "      <td>0</td>\n",
       "      <td>0</td>\n",
       "      <td>0</td>\n",
       "      <td>1452.0</td>\n",
       "      <td>0</td>\n",
       "      <td>5</td>\n",
       "      <td>58194</td>\n",
       "      <td>0</td>\n",
       "    </tr>\n",
       "    <tr>\n",
       "      <th>2</th>\n",
       "      <td>H16867</td>\n",
       "      <td>2013</td>\n",
       "      <td>1.0</td>\n",
       "      <td>1</td>\n",
       "      <td>1</td>\n",
       "      <td>0</td>\n",
       "      <td>0</td>\n",
       "      <td>0</td>\n",
       "      <td>1944.0</td>\n",
       "      <td>2</td>\n",
       "      <td>6</td>\n",
       "      <td>92050</td>\n",
       "      <td>1</td>\n",
       "    </tr>\n",
       "    <tr>\n",
       "      <th>3</th>\n",
       "      <td>H14813</td>\n",
       "      <td>2015</td>\n",
       "      <td>1.0</td>\n",
       "      <td>0</td>\n",
       "      <td>0</td>\n",
       "      <td>1</td>\n",
       "      <td>1</td>\n",
       "      <td>1</td>\n",
       "      <td>2270.0</td>\n",
       "      <td>1</td>\n",
       "      <td>0</td>\n",
       "      <td>13209</td>\n",
       "      <td>1</td>\n",
       "    </tr>\n",
       "    <tr>\n",
       "      <th>4</th>\n",
       "      <td>H3728</td>\n",
       "      <td>2016</td>\n",
       "      <td>0.5</td>\n",
       "      <td>0</td>\n",
       "      <td>1</td>\n",
       "      <td>0</td>\n",
       "      <td>0</td>\n",
       "      <td>0</td>\n",
       "      <td>2976.0</td>\n",
       "      <td>0</td>\n",
       "      <td>9</td>\n",
       "      <td>5177</td>\n",
       "      <td>0</td>\n",
       "    </tr>\n",
       "  </tbody>\n",
       "</table>\n",
       "</div>"
      ],
      "text/plain": [
       "  Customer Id  YearOfObservation  Insured_Period  Residential  \\\n",
       "0       H3733               2013             1.0            0   \n",
       "1      H16909               2015             1.0            0   \n",
       "2      H16867               2013             1.0            1   \n",
       "3      H14813               2015             1.0            0   \n",
       "4       H3728               2016             0.5            0   \n",
       "\n",
       "   Building_Painted  Building_Fenced  Garden  Settlement  Building Dimension  \\\n",
       "0                 1                1       1           1              3760.0   \n",
       "1                 1                0       0           0              1452.0   \n",
       "2                 1                0       0           0              1944.0   \n",
       "3                 0                1       1           1              2270.0   \n",
       "4                 1                0       0           0              2976.0   \n",
       "\n",
       "   Building_Type  NumberOfWindows Geo_Code  Claim  \n",
       "0              0                0    43157      1  \n",
       "1              0                5    58194      0  \n",
       "2              2                6    92050      1  \n",
       "3              1                0    13209      1  \n",
       "4              0                9     5177      0  "
      ]
     },
     "execution_count": 22,
     "metadata": {},
     "output_type": "execute_result"
    }
   ],
   "source": [
    "test_data.head()"
   ]
  },
  {
   "cell_type": "code",
   "execution_count": 23,
   "metadata": {},
   "outputs": [
    {
     "data": {
      "text/plain": [
       "0    3886\n",
       "1    1126\n",
       "Name: Claim, dtype: int64"
      ]
     },
     "execution_count": 23,
     "metadata": {},
     "output_type": "execute_result"
    }
   ],
   "source": [
    "train_data[\"Claim\"].value_counts()"
   ]
  },
  {
   "cell_type": "code",
   "execution_count": 24,
   "metadata": {},
   "outputs": [],
   "source": [
    "Y_train = train_data.Claim\n",
    "X_train = train_data.drop(columns=['Customer Id','Claim','YearOfObservation','Geo_Code'],axis=1) #features\n"
   ]
  },
  {
   "cell_type": "code",
   "execution_count": 25,
   "metadata": {},
   "outputs": [],
   "source": [
    "smote = SMOTE(sampling_strategy={1:3000})\n",
    "x_train,y_train= smote.fit_resample(X_train, Y_train)"
   ]
  },
  {
   "cell_type": "code",
   "execution_count": null,
   "metadata": {},
   "outputs": [],
   "source": []
  },
  {
   "cell_type": "code",
   "execution_count": 26,
   "metadata": {},
   "outputs": [
    {
     "data": {
      "text/plain": [
       "Residential              2\n",
       "Building_Painted         2\n",
       "Building_Fenced          2\n",
       "Garden                   2\n",
       "Settlement               2\n",
       "Building_Type            4\n",
       "NumberOfWindows         11\n",
       "Insured_Period         618\n",
       "Building Dimension    2880\n",
       "dtype: int64"
      ]
     },
     "execution_count": 26,
     "metadata": {},
     "output_type": "execute_result"
    }
   ],
   "source": [
    "x_train.nunique().sort_values()"
   ]
  },
  {
   "cell_type": "code",
   "execution_count": 27,
   "metadata": {},
   "outputs": [
    {
     "data": {
      "text/html": [
       "<div>\n",
       "<style scoped>\n",
       "    .dataframe tbody tr th:only-of-type {\n",
       "        vertical-align: middle;\n",
       "    }\n",
       "\n",
       "    .dataframe tbody tr th {\n",
       "        vertical-align: top;\n",
       "    }\n",
       "\n",
       "    .dataframe thead th {\n",
       "        text-align: right;\n",
       "    }\n",
       "</style>\n",
       "<table border=\"1\" class=\"dataframe\">\n",
       "  <thead>\n",
       "    <tr style=\"text-align: right;\">\n",
       "      <th></th>\n",
       "      <th>YearOfObservation</th>\n",
       "      <th>Insured_Period</th>\n",
       "      <th>Residential</th>\n",
       "      <th>Building_Painted</th>\n",
       "      <th>Building_Fenced</th>\n",
       "      <th>Garden</th>\n",
       "      <th>Settlement</th>\n",
       "      <th>Building Dimension</th>\n",
       "      <th>Building_Type</th>\n",
       "      <th>NumberOfWindows</th>\n",
       "      <th>Claim</th>\n",
       "    </tr>\n",
       "  </thead>\n",
       "  <tbody>\n",
       "    <tr>\n",
       "      <th>YearOfObservation</th>\n",
       "      <td>1.000000</td>\n",
       "      <td>-0.301636</td>\n",
       "      <td>-0.025558</td>\n",
       "      <td>0.048231</td>\n",
       "      <td>-0.123026</td>\n",
       "      <td>-0.122836</td>\n",
       "      <td>-0.122646</td>\n",
       "      <td>0.005187</td>\n",
       "      <td>-0.002341</td>\n",
       "      <td>0.108055</td>\n",
       "      <td>-0.020188</td>\n",
       "    </tr>\n",
       "    <tr>\n",
       "      <th>Insured_Period</th>\n",
       "      <td>-0.301636</td>\n",
       "      <td>1.000000</td>\n",
       "      <td>-0.039430</td>\n",
       "      <td>-0.036210</td>\n",
       "      <td>0.015859</td>\n",
       "      <td>0.015622</td>\n",
       "      <td>0.016294</td>\n",
       "      <td>-0.010356</td>\n",
       "      <td>0.003199</td>\n",
       "      <td>-0.020290</td>\n",
       "      <td>0.070145</td>\n",
       "    </tr>\n",
       "    <tr>\n",
       "      <th>Residential</th>\n",
       "      <td>-0.025558</td>\n",
       "      <td>-0.039430</td>\n",
       "      <td>1.000000</td>\n",
       "      <td>-0.017048</td>\n",
       "      <td>-0.090274</td>\n",
       "      <td>-0.090012</td>\n",
       "      <td>-0.090621</td>\n",
       "      <td>0.066270</td>\n",
       "      <td>0.331869</td>\n",
       "      <td>0.133417</td>\n",
       "      <td>0.055220</td>\n",
       "    </tr>\n",
       "    <tr>\n",
       "      <th>Building_Painted</th>\n",
       "      <td>0.048231</td>\n",
       "      <td>-0.036210</td>\n",
       "      <td>-0.017048</td>\n",
       "      <td>1.000000</td>\n",
       "      <td>-0.578215</td>\n",
       "      <td>-0.578447</td>\n",
       "      <td>-0.578680</td>\n",
       "      <td>0.096291</td>\n",
       "      <td>-0.046469</td>\n",
       "      <td>0.495624</td>\n",
       "      <td>0.036031</td>\n",
       "    </tr>\n",
       "    <tr>\n",
       "      <th>Building_Fenced</th>\n",
       "      <td>-0.123026</td>\n",
       "      <td>0.015859</td>\n",
       "      <td>-0.090274</td>\n",
       "      <td>-0.578215</td>\n",
       "      <td>1.000000</td>\n",
       "      <td>0.999601</td>\n",
       "      <td>0.999202</td>\n",
       "      <td>-0.140850</td>\n",
       "      <td>-0.022468</td>\n",
       "      <td>-0.857857</td>\n",
       "      <td>-0.069308</td>\n",
       "    </tr>\n",
       "    <tr>\n",
       "      <th>Garden</th>\n",
       "      <td>-0.122836</td>\n",
       "      <td>0.015622</td>\n",
       "      <td>-0.090012</td>\n",
       "      <td>-0.578447</td>\n",
       "      <td>0.999601</td>\n",
       "      <td>1.000000</td>\n",
       "      <td>0.999601</td>\n",
       "      <td>-0.140783</td>\n",
       "      <td>-0.022389</td>\n",
       "      <td>-0.859088</td>\n",
       "      <td>-0.070050</td>\n",
       "    </tr>\n",
       "    <tr>\n",
       "      <th>Settlement</th>\n",
       "      <td>-0.122646</td>\n",
       "      <td>0.016294</td>\n",
       "      <td>-0.090621</td>\n",
       "      <td>-0.578680</td>\n",
       "      <td>0.999202</td>\n",
       "      <td>0.999601</td>\n",
       "      <td>1.000000</td>\n",
       "      <td>-0.140784</td>\n",
       "      <td>-0.022310</td>\n",
       "      <td>-0.858745</td>\n",
       "      <td>-0.069836</td>\n",
       "    </tr>\n",
       "    <tr>\n",
       "      <th>Building Dimension</th>\n",
       "      <td>0.005187</td>\n",
       "      <td>-0.010356</td>\n",
       "      <td>0.066270</td>\n",
       "      <td>0.096291</td>\n",
       "      <td>-0.140850</td>\n",
       "      <td>-0.140783</td>\n",
       "      <td>-0.140784</td>\n",
       "      <td>1.000000</td>\n",
       "      <td>0.007205</td>\n",
       "      <td>0.299424</td>\n",
       "      <td>0.286303</td>\n",
       "    </tr>\n",
       "    <tr>\n",
       "      <th>Building_Type</th>\n",
       "      <td>-0.002341</td>\n",
       "      <td>0.003199</td>\n",
       "      <td>0.331869</td>\n",
       "      <td>-0.046469</td>\n",
       "      <td>-0.022468</td>\n",
       "      <td>-0.022389</td>\n",
       "      <td>-0.022310</td>\n",
       "      <td>0.007205</td>\n",
       "      <td>1.000000</td>\n",
       "      <td>0.113581</td>\n",
       "      <td>0.114039</td>\n",
       "    </tr>\n",
       "    <tr>\n",
       "      <th>NumberOfWindows</th>\n",
       "      <td>0.108055</td>\n",
       "      <td>-0.020290</td>\n",
       "      <td>0.133417</td>\n",
       "      <td>0.495624</td>\n",
       "      <td>-0.857857</td>\n",
       "      <td>-0.859088</td>\n",
       "      <td>-0.858745</td>\n",
       "      <td>0.299424</td>\n",
       "      <td>0.113581</td>\n",
       "      <td>1.000000</td>\n",
       "      <td>0.155361</td>\n",
       "    </tr>\n",
       "    <tr>\n",
       "      <th>Claim</th>\n",
       "      <td>-0.020188</td>\n",
       "      <td>0.070145</td>\n",
       "      <td>0.055220</td>\n",
       "      <td>0.036031</td>\n",
       "      <td>-0.069308</td>\n",
       "      <td>-0.070050</td>\n",
       "      <td>-0.069836</td>\n",
       "      <td>0.286303</td>\n",
       "      <td>0.114039</td>\n",
       "      <td>0.155361</td>\n",
       "      <td>1.000000</td>\n",
       "    </tr>\n",
       "  </tbody>\n",
       "</table>\n",
       "</div>"
      ],
      "text/plain": [
       "                    YearOfObservation  Insured_Period  Residential  \\\n",
       "YearOfObservation            1.000000       -0.301636    -0.025558   \n",
       "Insured_Period              -0.301636        1.000000    -0.039430   \n",
       "Residential                 -0.025558       -0.039430     1.000000   \n",
       "Building_Painted             0.048231       -0.036210    -0.017048   \n",
       "Building_Fenced             -0.123026        0.015859    -0.090274   \n",
       "Garden                      -0.122836        0.015622    -0.090012   \n",
       "Settlement                  -0.122646        0.016294    -0.090621   \n",
       "Building Dimension           0.005187       -0.010356     0.066270   \n",
       "Building_Type               -0.002341        0.003199     0.331869   \n",
       "NumberOfWindows              0.108055       -0.020290     0.133417   \n",
       "Claim                       -0.020188        0.070145     0.055220   \n",
       "\n",
       "                    Building_Painted  Building_Fenced    Garden  Settlement  \\\n",
       "YearOfObservation           0.048231        -0.123026 -0.122836   -0.122646   \n",
       "Insured_Period             -0.036210         0.015859  0.015622    0.016294   \n",
       "Residential                -0.017048        -0.090274 -0.090012   -0.090621   \n",
       "Building_Painted            1.000000        -0.578215 -0.578447   -0.578680   \n",
       "Building_Fenced            -0.578215         1.000000  0.999601    0.999202   \n",
       "Garden                     -0.578447         0.999601  1.000000    0.999601   \n",
       "Settlement                 -0.578680         0.999202  0.999601    1.000000   \n",
       "Building Dimension          0.096291        -0.140850 -0.140783   -0.140784   \n",
       "Building_Type              -0.046469        -0.022468 -0.022389   -0.022310   \n",
       "NumberOfWindows             0.495624        -0.857857 -0.859088   -0.858745   \n",
       "Claim                       0.036031        -0.069308 -0.070050   -0.069836   \n",
       "\n",
       "                    Building Dimension  Building_Type  NumberOfWindows  \\\n",
       "YearOfObservation             0.005187      -0.002341         0.108055   \n",
       "Insured_Period               -0.010356       0.003199        -0.020290   \n",
       "Residential                   0.066270       0.331869         0.133417   \n",
       "Building_Painted              0.096291      -0.046469         0.495624   \n",
       "Building_Fenced              -0.140850      -0.022468        -0.857857   \n",
       "Garden                       -0.140783      -0.022389        -0.859088   \n",
       "Settlement                   -0.140784      -0.022310        -0.858745   \n",
       "Building Dimension            1.000000       0.007205         0.299424   \n",
       "Building_Type                 0.007205       1.000000         0.113581   \n",
       "NumberOfWindows               0.299424       0.113581         1.000000   \n",
       "Claim                         0.286303       0.114039         0.155361   \n",
       "\n",
       "                       Claim  \n",
       "YearOfObservation  -0.020188  \n",
       "Insured_Period      0.070145  \n",
       "Residential         0.055220  \n",
       "Building_Painted    0.036031  \n",
       "Building_Fenced    -0.069308  \n",
       "Garden             -0.070050  \n",
       "Settlement         -0.069836  \n",
       "Building Dimension  0.286303  \n",
       "Building_Type       0.114039  \n",
       "NumberOfWindows     0.155361  \n",
       "Claim               1.000000  "
      ]
     },
     "execution_count": 27,
     "metadata": {},
     "output_type": "execute_result"
    }
   ],
   "source": [
    "corr_matrix=train_data.corr()\n",
    "corr_matrix"
   ]
  },
  {
   "cell_type": "code",
   "execution_count": 28,
   "metadata": {},
   "outputs": [
    {
     "name": "stdout",
     "output_type": "stream",
     "text": [
      "[0.15090988 0.02434274 0.04083935 0.02604327 0.00699527 0.00705499\n",
      " 0.00674877 0.5672929  0.07285073 0.09692211]\n"
     ]
    },
    {
     "data": {
      "image/png": "[encoded data removed]",
      "text/plain": [
       "<Figure size 432x288 with 1 Axes>"
      ]
     },
     "metadata": {
      "needs_background": "light"
     },
     "output_type": "display_data"
    }
   ],
   "source": [
    "#check for feature importance for predicting the target variable\n",
    "from sklearn.ensemble import ExtraTreesRegressor\n",
    "model = ExtraTreesRegressor()\n",
    "model.fit(train_data.drop(['Customer Id','Claim','Geo_Code'],axis=1),train_data['Claim'])\n",
    "print(model.feature_importances_)\n",
    "feat_importances = pd.Series(model.feature_importances_, index=train_data.drop(['Customer Id','Claim','Geo_Code'],axis=1).columns)\n",
    "feat_importances.nlargest(10).plot(kind='barh')\n",
    "plt.show()\n"
   ]
  },
  {
   "cell_type": "code",
   "execution_count": 58,
   "metadata": {},
   "outputs": [
    {
     "name": "stdout",
     "output_type": "stream",
     "text": [
      "Building_Fenced  deleted with value:  0.006995271585344977\n",
      "Garden  deleted with value:  0.00705499372492111\n",
      "Settlement  deleted with value:  0.00674876512585682\n"
     ]
    }
   ],
   "source": [
    "for i in range(len(feat_importances)):\n",
    "    if feat_importances[i] < 0.01:\n",
    "        print(feat_importances.index[i],\" deleted with value: \",feat_importances[i])\n",
    "        train_data.drop([feat_importances.index[i]],axis=1,inplace=True)\n",
    "        test_data.drop([feat_importances.index[i]],axis=1,inplace=True)\n",
    "        "
   ]
  },
  {
   "cell_type": "code",
   "execution_count": 30,
   "metadata": {},
   "outputs": [],
   "source": [
    "Y_train = train_data.Claim #target\n",
    "X_train = train_data.drop(columns=['Customer Id','Claim','Geo_Code'],axis=1) #feature"
   ]
  },
  {
   "cell_type": "code",
   "execution_count": 59,
   "metadata": {},
   "outputs": [],
   "source": [
    "Y_test =  test_data.Claim #target\n",
    "X_test = test_data.drop(columns=['Customer Id','Claim','Geo_Code'],axis=1) #feature"
   ]
  },
  {
   "cell_type": "code",
   "execution_count": 32,
   "metadata": {},
   "outputs": [
    {
     "data": {
      "text/plain": [
       "YearOfObservation     0\n",
       "Insured_Period        0\n",
       "Residential           0\n",
       "Building_Painted      0\n",
       "Building Dimension    0\n",
       "Building_Type         0\n",
       "NumberOfWindows       0\n",
       "dtype: int64"
      ]
     },
     "execution_count": 32,
     "metadata": {},
     "output_type": "execute_result"
    }
   ],
   "source": [
    "X_train.isnull().sum()"
   ]
  },
  {
   "cell_type": "code",
   "execution_count": null,
   "metadata": {},
   "outputs": [],
   "source": []
  },
  {
   "cell_type": "code",
   "execution_count": null,
   "metadata": {},
   "outputs": [],
   "source": []
  },
  {
   "cell_type": "code",
   "execution_count": null,
   "metadata": {},
   "outputs": [],
   "source": []
  },
  {
   "cell_type": "markdown",
   "metadata": {
    "id": "jaapLLQE4VS8"
   },
   "source": [
    "---"
   ]
  },
  {
   "cell_type": "markdown",
   "metadata": {
    "id": "4pKhtTMi4ZDC"
   },
   "source": [
    "### **Ml Modul construction** "
   ]
  },
  {
   "cell_type": "code",
   "execution_count": 33,
   "metadata": {
    "id": "-aLtoNbm4XqN"
   },
   "outputs": [],
   "source": [
    "#define scores, models, models_name \n",
    "scores=[]\n",
    "models=[]\n",
    "models_name=['KNN','LogisticRegression','DecisionTreeClass','RandomForestClass','GradientBoosting','XGB']"
   ]
  },
  {
   "cell_type": "code",
   "execution_count": 34,
   "metadata": {},
   "outputs": [],
   "source": [
    "#define a grid function to determine best parameters for each model \n",
    "def grid_funct (model,param_grid,X_train,Y_train):\n",
    "        grid=GridSearchCV(model,param_grid,cv=5)\n",
    "        grid.fit(X_train,Y_train)\n",
    "        print(\"score: \",grid.best_score_)\n",
    "        print(\"estimatore: \",grid.best_estimator_)\n",
    "        print(\"Parameters: \",grid.best_params_)\n",
    "        scores.append(grid.best_score_)\n",
    "        models.append(grid.best_estimator_)"
   ]
  },
  {
   "cell_type": "code",
   "execution_count": 35,
   "metadata": {},
   "outputs": [
    {
     "name": "stdout",
     "output_type": "stream",
     "text": [
      "score pour k=1:  0.6795528644620401\n",
      "score:  0.7823224935970533\n",
      "estimatore:  KNeighborsClassifier(n_neighbors=18, p=1)\n",
      "Parameters:  {'n_neighbors': 18, 'p': 1}\n"
     ]
    }
   ],
   "source": [
    "#KNN\n",
    "from sklearn.neighbors import KNeighborsClassifier\n",
    "from sklearn.model_selection import GridSearchCV\n",
    "knn=KNeighborsClassifier(1)\n",
    "knn.fit(X_train,Y_train)\n",
    "y_pred=knn.predict(X_test)\n",
    "print(\"score pour k=1: \",knn.score(X_test,Y_test))\n",
    "knn=KNeighborsClassifier(1)\n",
    "#grid search CV to find best parameters \n",
    "param_grid={'n_neighbors':list(range(1,31)),'p':list(range(1,11))}\n",
    "grid_funct(knn,param_grid,X_train,Y_train)"
   ]
  },
  {
   "cell_type": "code",
   "execution_count": 36,
   "metadata": {},
   "outputs": [
    {
     "name": "stdout",
     "output_type": "stream",
     "text": [
      "before Grid Serach CVd:  0.7764362769013932\n"
     ]
    },
    {
     "name": "stderr",
     "output_type": "stream",
     "text": [
      "/Library/Frameworks/Python.framework/Versions/3.9/lib/python3.9/site-packages/scipy/optimize/_linesearch.py:456: LineSearchWarning: The line search algorithm did not converge\n",
      "  warn('The line search algorithm did not converge', LineSearchWarning)\n",
      "/Library/Frameworks/Python.framework/Versions/3.9/lib/python3.9/site-packages/scipy/optimize/_linesearch.py:305: LineSearchWarning: The line search algorithm did not converge\n",
      "  warn('The line search algorithm did not converge', LineSearchWarning)\n",
      "/Library/Frameworks/Python.framework/Versions/3.9/lib/python3.9/site-packages/scipy/optimize/_linesearch.py:415: LineSearchWarning: Rounding errors prevent the line search from converging\n",
      "  warn(msg, LineSearchWarning)\n",
      "/Library/Frameworks/Python.framework/Versions/3.9/lib/python3.9/site-packages/sklearn/utils/optimize.py:203: UserWarning: Line Search failed\n",
      "  warnings.warn(\"Line Search failed\")\n",
      "/Library/Frameworks/Python.framework/Versions/3.9/lib/python3.9/site-packages/scipy/optimize/_linesearch.py:456: LineSearchWarning: The line search algorithm did not converge\n",
      "  warn('The line search algorithm did not converge', LineSearchWarning)\n",
      "/Library/Frameworks/Python.framework/Versions/3.9/lib/python3.9/site-packages/scipy/optimize/_linesearch.py:305: LineSearchWarning: The line search algorithm did not converge\n",
      "  warn('The line search algorithm did not converge', LineSearchWarning)\n",
      "/Library/Frameworks/Python.framework/Versions/3.9/lib/python3.9/site-packages/sklearn/utils/optimize.py:203: UserWarning: Line Search failed\n",
      "  warnings.warn(\"Line Search failed\")\n",
      "/Library/Frameworks/Python.framework/Versions/3.9/lib/python3.9/site-packages/scipy/optimize/_linesearch.py:456: LineSearchWarning: The line search algorithm did not converge\n",
      "  warn('The line search algorithm did not converge', LineSearchWarning)\n",
      "/Library/Frameworks/Python.framework/Versions/3.9/lib/python3.9/site-packages/scipy/optimize/_linesearch.py:305: LineSearchWarning: The line search algorithm did not converge\n",
      "  warn('The line search algorithm did not converge', LineSearchWarning)\n",
      "/Library/Frameworks/Python.framework/Versions/3.9/lib/python3.9/site-packages/scipy/optimize/_linesearch.py:415: LineSearchWarning: Rounding errors prevent the line search from converging\n",
      "  warn(msg, LineSearchWarning)\n",
      "/Library/Frameworks/Python.framework/Versions/3.9/lib/python3.9/site-packages/sklearn/utils/optimize.py:203: UserWarning: Line Search failed\n",
      "  warnings.warn(\"Line Search failed\")\n",
      "/Library/Frameworks/Python.framework/Versions/3.9/lib/python3.9/site-packages/scipy/optimize/_linesearch.py:456: LineSearchWarning: The line search algorithm did not converge\n",
      "  warn('The line search algorithm did not converge', LineSearchWarning)\n",
      "/Library/Frameworks/Python.framework/Versions/3.9/lib/python3.9/site-packages/scipy/optimize/_linesearch.py:305: LineSearchWarning: The line search algorithm did not converge\n",
      "  warn('The line search algorithm did not converge', LineSearchWarning)\n",
      "/Library/Frameworks/Python.framework/Versions/3.9/lib/python3.9/site-packages/scipy/optimize/_linesearch.py:415: LineSearchWarning: Rounding errors prevent the line search from converging\n",
      "  warn(msg, LineSearchWarning)\n",
      "/Library/Frameworks/Python.framework/Versions/3.9/lib/python3.9/site-packages/sklearn/utils/optimize.py:203: UserWarning: Line Search failed\n",
      "  warnings.warn(\"Line Search failed\")\n",
      "/Library/Frameworks/Python.framework/Versions/3.9/lib/python3.9/site-packages/scipy/optimize/_linesearch.py:456: LineSearchWarning: The line search algorithm did not converge\n",
      "  warn('The line search algorithm did not converge', LineSearchWarning)\n",
      "/Library/Frameworks/Python.framework/Versions/3.9/lib/python3.9/site-packages/scipy/optimize/_linesearch.py:305: LineSearchWarning: The line search algorithm did not converge\n",
      "  warn('The line search algorithm did not converge', LineSearchWarning)\n"
     ]
    },
    {
     "name": "stdout",
     "output_type": "stream",
     "text": [
      "score:  0.7914997522402851\n",
      "estimatore:  LogisticRegression(max_iter=10000, solver='newton-cg')\n",
      "Parameters:  {'solver': 'newton-cg'}\n"
     ]
    },
    {
     "name": "stderr",
     "output_type": "stream",
     "text": [
      "/Library/Frameworks/Python.framework/Versions/3.9/lib/python3.9/site-packages/scipy/optimize/_linesearch.py:456: LineSearchWarning: The line search algorithm did not converge\n",
      "  warn('The line search algorithm did not converge', LineSearchWarning)\n",
      "/Library/Frameworks/Python.framework/Versions/3.9/lib/python3.9/site-packages/scipy/optimize/_linesearch.py:305: LineSearchWarning: The line search algorithm did not converge\n",
      "  warn('The line search algorithm did not converge', LineSearchWarning)\n",
      "/Library/Frameworks/Python.framework/Versions/3.9/lib/python3.9/site-packages/scipy/optimize/_linesearch.py:415: LineSearchWarning: Rounding errors prevent the line search from converging\n",
      "  warn(msg, LineSearchWarning)\n",
      "/Library/Frameworks/Python.framework/Versions/3.9/lib/python3.9/site-packages/sklearn/utils/optimize.py:203: UserWarning: Line Search failed\n",
      "  warnings.warn(\"Line Search failed\")\n"
     ]
    }
   ],
   "source": [
    "#logistic regression\n",
    "from sklearn.linear_model import LogisticRegression\n",
    "from sklearn.model_selection import cross_val_score\n",
    "lr=LogisticRegression()\n",
    "lr.fit(X_train,Y_train)\n",
    "print('before Grid Serach CVd: ',cross_val_score(lr,X_test,Y_test,cv=5).mean())\n",
    "lr=LogisticRegression(max_iter=10000)\n",
    "#grid search\n",
    "param_grid={\"solver\":['newton-cg', 'lbfgs','liblinear','sag','saga']}\n",
    "grid_funct(lr,param_grid,X_train,Y_train)\n",
    "\n"
   ]
  },
  {
   "cell_type": "code",
   "execution_count": 37,
   "metadata": {},
   "outputs": [
    {
     "name": "stdout",
     "output_type": "stream",
     "text": [
      "score before grid search:  0.775966464834653\n",
      "score:  0.7877085310933467\n",
      "estimatore:  DecisionTreeClassifier(max_depth=6, max_features=4, max_leaf_nodes=20)\n",
      "Parameters:  {'max_depth': 6, 'max_features': 4, 'max_leaf_nodes': 20}\n"
     ]
    },
    {
     "data": {
      "image/png": "[encoded data removed]",
      "text/plain": [
       "<Figure size 1800x1440 with 1 Axes>"
      ]
     },
     "metadata": {
      "needs_background": "light"
     },
     "output_type": "display_data"
    }
   ],
   "source": [
    "#decision tree classifier \n",
    "from sklearn.tree import DecisionTreeClassifier\n",
    "dec_tree=DecisionTreeClassifier(max_leaf_nodes=5)\n",
    "dec_tree.fit(X_train,Y_train)\n",
    "print(\"score before grid search: \",dec_tree.score(X_test,Y_test))\n",
    "from sklearn import tree\n",
    "fig = plt.figure(figsize=(25,20))\n",
    "_ = tree.plot_tree(dec_tree,\n",
    "                   feature_names=X_test.columns,\n",
    "                   class_names=['oui', \"non\"],\n",
    "                   filled=True)\n",
    "#grid search\n",
    "dec_tree=DecisionTreeClassifier()\n",
    "param_grid={'max_depth':list(range(1,30)),'max_features':list(range(1,8)),'max_leaf_nodes':[5,10,15,20,50,100,200,1000]}\n",
    "grid_funct(dec_tree,param_grid,X_train,Y_train)\n",
    "\n"
   ]
  },
  {
   "cell_type": "code",
   "execution_count": 38,
   "metadata": {},
   "outputs": [
    {
     "name": "stdout",
     "output_type": "stream",
     "text": [
      "score before grid search:  0.7317186772240335\n",
      "score:  0.7535921178580028\n",
      "estimatore:  RandomForestClassifier(max_features=5, n_estimators=200)\n",
      "Parameters:  {'max_features': 5, 'n_estimators': 200}\n"
     ]
    }
   ],
   "source": [
    "#random forest classifier\n",
    "from sklearn.ensemble import RandomForestClassifier\n",
    "rf=RandomForestClassifier(random_state=5)\n",
    "rf.fit(X_train, Y_train)\n",
    "print(\"score before grid search: \",rf.score(X_test,Y_test))\n",
    "#parametre tuning using grid search\n",
    "rf=RandomForestClassifier()\n",
    "n_estimators = [int(x) for x in np.linspace(start = 100, stop = 400, num = 4)]\n",
    "n_estimators\n",
    "param_grid={'n_estimators':n_estimators,'max_features':list(range(1,8))}\n",
    "grid_funct(rf,param_grid,X_train,Y_train)\n",
    "\n"
   ]
  },
  {
   "cell_type": "code",
   "execution_count": 39,
   "metadata": {},
   "outputs": [
    {
     "name": "stdout",
     "output_type": "stream",
     "text": [
      "before :  0.7633907778295296\n",
      "score:  0.7879077338841759\n",
      "estimatore:  GradientBoostingClassifier(learning_rate=0.15, min_samples_leaf=0.2,\n",
      "                           min_samples_split=0.5)\n",
      "Parameters:  {'learning_rate': 0.15, 'max_depth': 3, 'min_samples_leaf': 0.2, 'min_samples_split': 0.5}\n"
     ]
    }
   ],
   "source": [
    "\n",
    "from sklearn.ensemble import GradientBoostingClassifier\n",
    "gb=GradientBoostingClassifier(n_estimators=5).fit(X_train,Y_train)\n",
    "print('before : ',gb.score(X_test,Y_test))\n",
    "#grid search\n",
    "param_grid={\"learning_rate\": [0.01, 0.1, 0.15, 0.2],\n",
    "    \"min_samples_split\": np.linspace(0.1, 0.5, 5),\n",
    "    \"min_samples_leaf\": np.linspace(0.1, 0.5, 5),\n",
    "    \"max_depth\":[3,5,8]}\n",
    "grid_funct(GradientBoostingClassifier(),param_grid,X_train,Y_train)"
   ]
  },
  {
   "cell_type": "code",
   "execution_count": 40,
   "metadata": {
    "id": "jY66qTipp9j9"
   },
   "outputs": [
    {
     "name": "stdout",
     "output_type": "stream",
     "text": [
      "before: 0.7638565440149045\n",
      "score:  0.7916985570235401\n",
      "estimatore:  XGBClassifier(base_score=0.5, booster='gbtree', callbacks=None,\n",
      "              colsample_bylevel=1, colsample_bynode=1, colsample_bytree=1.0,\n",
      "              early_stopping_rounds=None, enable_categorical=False,\n",
      "              eval_metric=None, feature_types=None, gamma=1.5, gpu_id=-1,\n",
      "              grow_policy='depthwise', importance_type=None,\n",
      "              interaction_constraints='', learning_rate=0.300000012,\n",
      "              max_bin=256, max_cat_threshold=64, max_cat_to_onehot=4,\n",
      "              max_delta_step=0, max_depth=4, max_leaves=0, min_child_weight=5,\n",
      "              missing=nan, monotone_constraints='()', n_estimators=100,\n",
      "              n_jobs=0, num_parallel_tree=1, predictor='auto', random_state=0, ...)\n",
      "Parameters:  {'colsample_bytree': 1.0, 'gamma': 1.5, 'max_depth': 4, 'min_child_weight': 5, 'subsample': 1.0}\n"
     ]
    }
   ],
   "source": [
    "from xgboost import XGBClassifier\n",
    "xgb = XGBClassifier()\n",
    "xgb.fit(X_train, Y_train)\n",
    "print('before:',xgb.score(X_test,Y_test))\n",
    "#grid search\n",
    "param_grid={'min_child_weight':[1, 5, 10],\n",
    "        'gamma':[0.5, 1, 1.5, 2, 5],\n",
    "        'subsample':[0.6, 0.8, 1.0],\n",
    "        'colsample_bytree':[0.6, 0.8, 1.0],\n",
    "        'max_depth':[3, 4, 5]}\n",
    "\n",
    "grid_funct(XGBClassifier(),param_grid,X_train,Y_train)"
   ]
  },
  {
   "cell_type": "code",
   "execution_count": null,
   "metadata": {},
   "outputs": [],
   "source": []
  },
  {
   "cell_type": "code",
   "execution_count": 41,
   "metadata": {},
   "outputs": [
    {
     "data": {
      "text/plain": [
       "[0.7823224935970533,\n",
       " 0.7914997522402851,\n",
       " 0.7877085310933467,\n",
       " 0.7535921178580028,\n",
       " 0.7879077338841759,\n",
       " 0.7916985570235401]"
      ]
     },
     "execution_count": 41,
     "metadata": {},
     "output_type": "execute_result"
    }
   ],
   "source": [
    "scores"
   ]
  },
  {
   "cell_type": "code",
   "execution_count": 42,
   "metadata": {},
   "outputs": [
    {
     "data": {
      "text/plain": [
       "[KNeighborsClassifier(n_neighbors=18, p=1),\n",
       " LogisticRegression(max_iter=10000, solver='newton-cg'),\n",
       " DecisionTreeClassifier(max_depth=6, max_features=4, max_leaf_nodes=20),\n",
       " RandomForestClassifier(max_features=5, n_estimators=200),\n",
       " GradientBoostingClassifier(learning_rate=0.15, min_samples_leaf=0.2,\n",
       "                            min_samples_split=0.5),\n",
       " XGBClassifier(base_score=0.5, booster='gbtree', callbacks=None,\n",
       "               colsample_bylevel=1, colsample_bynode=1, colsample_bytree=1.0,\n",
       "               early_stopping_rounds=None, enable_categorical=False,\n",
       "               eval_metric=None, feature_types=None, gamma=1.5, gpu_id=-1,\n",
       "               grow_policy='depthwise', importance_type=None,\n",
       "               interaction_constraints='', learning_rate=0.300000012,\n",
       "               max_bin=256, max_cat_threshold=64, max_cat_to_onehot=4,\n",
       "               max_delta_step=0, max_depth=4, max_leaves=0, min_child_weight=5,\n",
       "               missing=nan, monotone_constraints='()', n_estimators=100,\n",
       "               n_jobs=0, num_parallel_tree=1, predictor='auto', random_state=0, ...)]"
      ]
     },
     "execution_count": 42,
     "metadata": {},
     "output_type": "execute_result"
    }
   ],
   "source": [
    "models"
   ]
  },
  {
   "cell_type": "markdown",
   "metadata": {
    "id": "uz2JcSJ24wP9"
   },
   "source": [
    "---"
   ]
  },
  {
   "cell_type": "markdown",
   "metadata": {
    "id": "aaJeBnbf4y2D"
   },
   "source": [
    "### **Validation & Interpretation** "
   ]
  },
  {
   "cell_type": "code",
   "execution_count": 43,
   "metadata": {
    "id": "orZbrYDX4wpM"
   },
   "outputs": [
    {
     "name": "stdout",
     "output_type": "stream",
     "text": [
      "KNN :  0.7823224935970533\n",
      "LogisticRegression :  0.7914997522402851\n",
      "DecisionTreeClass :  0.7877085310933467\n",
      "RandomForestClass :  0.7535921178580028\n",
      "GradientBoosting :  0.7879077338841759\n",
      "XGB :  0.7916985570235401\n"
     ]
    }
   ],
   "source": [
    "for i in range(6):\n",
    "    print(models_name[i],\": \",scores[i])"
   ]
  },
  {
   "cell_type": "markdown",
   "metadata": {
    "id": "ZfWZC-e-p-QG"
   },
   "source": [
    "#### => XGB est le meilleure classificateur avec un score de 0.79"
   ]
  },
  {
   "cell_type": "markdown",
   "metadata": {
    "id": "1av1OuVq4-T1"
   },
   "source": [
    "## Confusion Matrix"
   ]
  },
  {
   "cell_type": "code",
   "execution_count": 45,
   "metadata": {
    "scrolled": true
   },
   "outputs": [
    {
     "name": "stdout",
     "output_type": "stream",
     "text": [
      "[[1575   64]\n",
      " [ 434   74]]\n",
      "[[1603   36]\n",
      " [ 439   69]]\n",
      "[[1585   54]\n",
      " [ 445   63]]\n",
      "[[1466  173]\n",
      " [ 386  122]]\n",
      "[[1571   68]\n",
      " [ 430   78]]\n",
      "[[1575   64]\n",
      " [ 419   89]]\n"
     ]
    }
   ],
   "source": [
    "from sklearn.metrics import confusion_matrix\n",
    "for i in models:\n",
    "    y_pred=i.predict(X_test)\n",
    "    mat=confusion_matrix(Y_test,y_pred)\n",
    "    print(mat)\n"
   ]
  },
  {
   "cell_type": "markdown",
   "metadata": {},
   "source": [
    "### =>The model correctly predict TP: true positive but not TN , a hypothesis to test in unbalanced training data"
   ]
  },
  {
   "cell_type": "code",
   "execution_count": 48,
   "metadata": {},
   "outputs": [
    {
     "data": {
      "text/plain": [
       "0    3886\n",
       "1    1126\n",
       "Name: Claim, dtype: int64"
      ]
     },
     "execution_count": 48,
     "metadata": {},
     "output_type": "execute_result"
    }
   ],
   "source": [
    "Y_train.value_counts()"
   ]
  },
  {
   "cell_type": "code",
   "execution_count": 50,
   "metadata": {},
   "outputs": [],
   "source": [
    "from imblearn.over_sampling import SMOTE\n",
    "sm = SMOTE(random_state=42)\n",
    "X_res, y_res = sm.fit_resample(X_train, Y_train)"
   ]
  },
  {
   "cell_type": "code",
   "execution_count": 51,
   "metadata": {},
   "outputs": [
    {
     "name": "stdout",
     "output_type": "stream",
     "text": [
      "before: 0.7638565440149045\n",
      "score:  0.7757513232111303\n",
      "estimatore:  XGBClassifier(base_score=0.5, booster='gbtree', callbacks=None,\n",
      "              colsample_bylevel=1, colsample_bynode=1, colsample_bytree=1.0,\n",
      "              early_stopping_rounds=None, enable_categorical=False,\n",
      "              eval_metric=None, feature_types=None, gamma=0.5, gpu_id=-1,\n",
      "              grow_policy='depthwise', importance_type=None,\n",
      "              interaction_constraints='', learning_rate=0.300000012,\n",
      "              max_bin=256, max_cat_threshold=64, max_cat_to_onehot=4,\n",
      "              max_delta_step=0, max_depth=5, max_leaves=0, min_child_weight=1,\n",
      "              missing=nan, monotone_constraints='()', n_estimators=100,\n",
      "              n_jobs=0, num_parallel_tree=1, predictor='auto', random_state=0, ...)\n",
      "Parameters:  {'colsample_bytree': 1.0, 'gamma': 0.5, 'max_depth': 5, 'min_child_weight': 1, 'subsample': 0.8}\n"
     ]
    }
   ],
   "source": [
    "from xgboost import XGBClassifier\n",
    "xgb = XGBClassifier()\n",
    "xgb.fit(X_train, Y_train)\n",
    "print('before:',xgb.score(X_test,Y_test))\n",
    "#grid search\n",
    "param_grid={'min_child_weight':[1, 5, 10],\n",
    "        'gamma':[0.5, 1, 1.5, 2, 5],\n",
    "        'subsample':[0.6, 0.8, 1.0],\n",
    "        'colsample_bytree':[0.6, 0.8, 1.0],\n",
    "        'max_depth':[3, 4, 5]}\n",
    "\n",
    "grid_funct(XGBClassifier(),param_grid,X_res, y_res)\n"
   ]
  },
  {
   "cell_type": "code",
   "execution_count": 61,
   "metadata": {},
   "outputs": [
    {
     "data": {
      "text/plain": [
       "[KNeighborsClassifier(n_neighbors=18, p=1),\n",
       " LogisticRegression(max_iter=10000, solver='newton-cg'),\n",
       " DecisionTreeClassifier(max_depth=6, max_features=4, max_leaf_nodes=20),\n",
       " RandomForestClassifier(max_features=5, n_estimators=200),\n",
       " GradientBoostingClassifier(learning_rate=0.15, min_samples_leaf=0.2,\n",
       "                            min_samples_split=0.5),\n",
       " XGBClassifier(base_score=0.5, booster='gbtree', callbacks=None,\n",
       "               colsample_bylevel=1, colsample_bynode=1, colsample_bytree=1.0,\n",
       "               early_stopping_rounds=None, enable_categorical=False,\n",
       "               eval_metric=None, feature_types=None, gamma=1.5, gpu_id=-1,\n",
       "               grow_policy='depthwise', importance_type=None,\n",
       "               interaction_constraints='', learning_rate=0.300000012,\n",
       "               max_bin=256, max_cat_threshold=64, max_cat_to_onehot=4,\n",
       "               max_delta_step=0, max_depth=4, max_leaves=0, min_child_weight=5,\n",
       "               missing=nan, monotone_constraints='()', n_estimators=100,\n",
       "               n_jobs=0, num_parallel_tree=1, predictor='auto', random_state=0, ...),\n",
       " XGBClassifier(base_score=0.5, booster='gbtree', callbacks=None,\n",
       "               colsample_bylevel=1, colsample_bynode=1, colsample_bytree=1.0,\n",
       "               early_stopping_rounds=None, enable_categorical=False,\n",
       "               eval_metric=None, feature_types=None, gamma=0.5, gpu_id=-1,\n",
       "               grow_policy='depthwise', importance_type=None,\n",
       "               interaction_constraints='', learning_rate=0.300000012,\n",
       "               max_bin=256, max_cat_threshold=64, max_cat_to_onehot=4,\n",
       "               max_delta_step=0, max_depth=5, max_leaves=0, min_child_weight=1,\n",
       "               missing=nan, monotone_constraints='()', n_estimators=100,\n",
       "               n_jobs=0, num_parallel_tree=1, predictor='auto', random_state=0, ...)]"
      ]
     },
     "execution_count": 61,
     "metadata": {},
     "output_type": "execute_result"
    }
   ],
   "source": []
  },
  {
   "cell_type": "code",
   "execution_count": null,
   "metadata": {},
   "outputs": [],
   "source": []
  }
 ],
 "metadata": {
  "colab": {
   "provenance": []
  },
  "kernelspec": {
   "display_name": "Python 3 (ipykernel)",
   "language": "python",
   "name": "python3"
  },
  "language_info": {
   "codemirror_mode": {
    "name": "ipython",
    "version": 3
   },
   "file_extension": ".py",
   "mimetype": "text/x-python",
   "name": "python",
   "nbconvert_exporter": "python",
   "pygments_lexer": "ipython3",
   "version": "3.9.10"
  }
 },
 "nbformat": 4,
 "nbformat_minor": 1
}
